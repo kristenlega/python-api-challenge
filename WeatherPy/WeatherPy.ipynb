{
 "cells": [
  {
   "cell_type": "markdown",
   "metadata": {},
   "source": [
    "# WeatherPy\n",
    "----"
   ]
  },
  {
   "cell_type": "code",
   "execution_count": 98,
   "metadata": {
    "scrolled": true
   },
   "outputs": [],
   "source": [
    "# Dependencies and Setup\n",
    "import matplotlib.pyplot as plt\n",
    "import pandas as pd\n",
    "import numpy as np\n",
    "import requests\n",
    "import time\n",
    "from scipy.stats import linregress\n",
    "\n",
    "# Import API key\n",
    "from api_keys import weather_api_key\n",
    "\n",
    "# Incorporated citipy to determine city based on latitude and longitude\n",
    "from citipy import citipy\n",
    "\n",
    "# Output File (CSV)\n",
    "output_data_file = \"output_data/cities.csv\"\n",
    "\n",
    "# Range of latitudes and longitudes\n",
    "lat_range = (-90, 90)\n",
    "lng_range = (-180, 180)"
   ]
  },
  {
   "cell_type": "markdown",
   "metadata": {},
   "source": [
    "## Generate Cities List"
   ]
  },
  {
   "cell_type": "code",
   "execution_count": 99,
   "metadata": {},
   "outputs": [
    {
     "data": {
      "text/plain": [
       "613"
      ]
     },
     "execution_count": 99,
     "metadata": {},
     "output_type": "execute_result"
    }
   ],
   "source": [
    "# List for holding lat_lngs and cities\n",
    "lat_lngs = []\n",
    "cities = []\n",
    "\n",
    "# Create a set of random lat and lng combinations\n",
    "lats = np.random.uniform(lat_range[0], lat_range[1], size=1500)\n",
    "lngs = np.random.uniform(lng_range[0], lng_range[1], size=1500)\n",
    "lat_lngs = zip(lats, lngs)\n",
    "\n",
    "# Identify nearest city for each lat, lng combination\n",
    "for lat_lng in lat_lngs:\n",
    "    city = citipy.nearest_city(lat_lng[0], lat_lng[1]).city_name\n",
    "    \n",
    "    # If the city is unique, then add it to a our cities list\n",
    "    if city not in cities:\n",
    "        cities.append(city)\n",
    "\n",
    "# Print the city count to confirm sufficient count\n",
    "len(cities)"
   ]
  },
  {
   "cell_type": "markdown",
   "metadata": {},
   "source": [
    "### Perform API Calls\n",
    "* Perform a weather check on each city using a series of successive API calls.\n",
    "* Include a print log of each city as it's being processed (with the city number and city name).\n"
   ]
  },
  {
   "cell_type": "code",
   "execution_count": 100,
   "metadata": {
    "scrolled": true
   },
   "outputs": [
    {
     "name": "stdout",
     "output_type": "stream",
     "text": [
      "Beginning Data Retrieval\n",
      "------------------------------\n",
      "Processing Record | saldanha\n",
      "Processing Record | dunedin\n",
      "Processing Record | uuemoisa\n",
      "Processing Record | alugan\n",
      "Processing Record | busselton\n",
      "Processing Record | namatanai\n",
      "Processing Record | hobart\n",
      "Processing Record | high level\n",
      "Processing Record | bonito\n",
      "Processing Record | talnakh\n",
      "Processing Record | mugur-aksy\n",
      "City not found\n",
      "Processing Record | lorengau\n",
      "Processing Record | cape town\n",
      "Processing Record | atuona\n",
      "Processing Record | hervey bay\n",
      "Processing Record | oranjemund\n",
      "City not found\n",
      "Processing Record | sept-iles\n",
      "Processing Record | ushuaia\n",
      "Processing Record | rikitea\n",
      "Processing Record | saraland\n",
      "Processing Record | kaitangata\n",
      "Processing Record | sao filipe\n",
      "Processing Record | lebu\n",
      "Processing Record | coihaique\n",
      "Processing Record | zhangjiakou\n",
      "Processing Record | new norfolk\n",
      "Processing Record | mataura\n",
      "Processing Record | lavrentiya\n",
      "City not found\n",
      "Processing Record | gilgit\n",
      "Processing Record | tuktoyaktuk\n",
      "Processing Record | beloha\n",
      "Processing Record | pochutla\n",
      "Processing Record | clyde river\n",
      "Processing Record | jamestown\n",
      "Processing Record | mackay\n",
      "Processing Record | codrington\n",
      "Processing Record | cayenne\n",
      "Processing Record | kerrville\n",
      "Processing Record | hofn\n",
      "Processing Record | chuy\n",
      "Processing Record | kodiak\n",
      "Processing Record | vaini\n",
      "Processing Record | quatre cocos\n",
      "Processing Record | geraldton\n",
      "Processing Record | conde\n",
      "Processing Record | deputatskiy\n",
      "Processing Record | fortuna\n",
      "Processing Record | leshukonskoye\n",
      "Processing Record | ilo\n",
      "Processing Record | constitucion\n",
      "Processing Record | castro\n",
      "Processing Record | victoria\n",
      "Processing Record | felanitx\n",
      "City not found\n",
      "Processing Record | hermanus\n",
      "Processing Record | mancio lima\n",
      "Processing Record | dikson\n",
      "Processing Record | jumla\n",
      "Processing Record | hasaki\n",
      "Processing Record | taboga\n",
      "City not found\n",
      "Processing Record | ahipara\n",
      "Processing Record | college\n",
      "Processing Record | carutapera\n",
      "Processing Record | kaeo\n",
      "Processing Record | east london\n",
      "City not found\n",
      "Processing Record | tasiilaq\n",
      "City not found\n",
      "Processing Record | bosaso\n",
      "Processing Record | souillac\n",
      "Processing Record | albany\n",
      "City not found\n",
      "Processing Record | beipiao\n",
      "Processing Record | khandagayty\n",
      "Processing Record | palitana\n",
      "Processing Record | bengkulu\n",
      "Processing Record | piranshahr\n",
      "Processing Record | luderitz\n",
      "Processing Record | saint-georges\n",
      "Processing Record | sisimiut\n",
      "Processing Record | stephenville\n",
      "Processing Record | kushmurun\n",
      "Processing Record | cascavel\n",
      "Processing Record | yellowknife\n",
      "Processing Record | mikkeli\n",
      "Processing Record | mahebourg\n",
      "Processing Record | cockburn town\n",
      "Processing Record | bathsheba\n",
      "Processing Record | pechora\n",
      "Processing Record | kapaa\n",
      "City not found\n",
      "Processing Record | longyearbyen\n",
      "Processing Record | punta arenas\n",
      "Processing Record | port elizabeth\n",
      "Processing Record | touros\n",
      "Processing Record | sarbogard\n",
      "Processing Record | saint-philippe\n",
      "Processing Record | laguna\n",
      "Processing Record | mstera\n",
      "Processing Record | cabo san lucas\n",
      "Processing Record | shakawe\n",
      "Processing Record | arraial do cabo\n",
      "Processing Record | nagornskiy\n",
      "Processing Record | harqalah\n",
      "Processing Record | bluff\n",
      "City not found\n",
      "Processing Record | cherskiy\n",
      "Processing Record | thompson\n",
      "Processing Record | warragul\n",
      "Processing Record | karratha\n",
      "Processing Record | richards bay\n",
      "Processing Record | mandalgovi\n",
      "Processing Record | minna\n",
      "Processing Record | henties bay\n",
      "Processing Record | nieuw amsterdam\n",
      "Processing Record | gemena\n",
      "Processing Record | cidreira\n",
      "Processing Record | bethel\n",
      "Processing Record | hovd\n",
      "Processing Record | layou\n",
      "Processing Record | barcelona\n",
      "Processing Record | pisco\n",
      "Processing Record | stornoway\n",
      "Processing Record | shimanovsk\n",
      "Processing Record | hoyanger\n",
      "Processing Record | altay\n",
      "Processing Record | airai\n",
      "Processing Record | port alfred\n",
      "Processing Record | grindavik\n",
      "Processing Record | belmonte\n",
      "Processing Record | aksarka\n",
      "Processing Record | flinders\n",
      "Processing Record | bermeo\n",
      "Processing Record | georgetown\n",
      "Processing Record | tiksi\n",
      "Processing Record | ancud\n",
      "Processing Record | mingguang\n",
      "City not found\n",
      "Processing Record | nanortalik\n",
      "Processing Record | yaan\n",
      "Processing Record | pevek\n",
      "City not found\n",
      "Processing Record | paamiut\n",
      "Processing Record | tornio\n",
      "Processing Record | imbituba\n",
      "City not found\n",
      "Processing Record | kamenka\n",
      "City not found\n",
      "Processing Record | yelizovo\n",
      "Processing Record | xam nua\n",
      "Processing Record | ponta do sol\n",
      "Processing Record | butaritari\n",
      "City not found\n",
      "Processing Record | belyy yar\n",
      "Processing Record | barrow\n",
      "City not found\n",
      "City not found\n",
      "Processing Record | esperance\n",
      "Processing Record | san patricio\n",
      "Processing Record | faya\n",
      "Processing Record | katsuura\n",
      "Processing Record | sampit\n",
      "Processing Record | yurino\n",
      "Processing Record | ilulissat\n",
      "Processing Record | pangai\n",
      "Processing Record | khatanga\n",
      "Processing Record | miri\n",
      "City not found\n",
      "Processing Record | mecca\n",
      "Processing Record | kovur\n",
      "Processing Record | bredasdorp\n",
      "Processing Record | olafsvik\n",
      "Processing Record | severo-kurilsk\n",
      "Processing Record | carmen\n",
      "Processing Record | hokitika\n",
      "Processing Record | lekoni\n",
      "Processing Record | florence\n",
      "Processing Record | seoul\n",
      "City not found\n",
      "Processing Record | puerto ayora\n",
      "Processing Record | sokna\n",
      "Processing Record | acarau\n",
      "Processing Record | qaanaaq\n",
      "Processing Record | kurilsk\n",
      "Processing Record | vardo\n",
      "Processing Record | lagoa\n",
      "Processing Record | provideniya\n",
      "Processing Record | mushie\n",
      "Processing Record | mankachar\n",
      "Processing Record | lavumisa\n",
      "City not found\n",
      "Processing Record | krasnomayskiy\n",
      "Processing Record | hilo\n",
      "Processing Record | mount isa\n",
      "City not found\n",
      "Processing Record | carnarvon\n",
      "Processing Record | port hedland\n",
      "Processing Record | baherden\n",
      "Processing Record | mar del plata\n",
      "Processing Record | talaya\n",
      "Processing Record | la romana\n",
      "Processing Record | lompoc\n",
      "Processing Record | eyl\n",
      "Processing Record | abu zabad\n",
      "Processing Record | chokurdakh\n",
      "Processing Record | bolshevik\n",
      "Processing Record | baghdad\n",
      "Processing Record | norman wells\n",
      "Processing Record | ayagoz\n",
      "Processing Record | bud\n",
      "Processing Record | sfantu gheorghe\n",
      "Processing Record | marshall\n",
      "Processing Record | homnabad\n",
      "Processing Record | rawson\n",
      "City not found\n",
      "Processing Record | avarua\n",
      "Processing Record | ereymentau\n",
      "Processing Record | bambanglipuro\n",
      "Processing Record | kouvola\n",
      "Processing Record | north bend\n",
      "Processing Record | yatou\n",
      "Processing Record | broome\n",
      "Processing Record | kununurra\n",
      "Processing Record | havelock\n",
      "Processing Record | kang\n",
      "Processing Record | saint george\n",
      "Processing Record | tilichiki\n",
      "Processing Record | great yarmouth\n",
      "Processing Record | chapais\n",
      "Processing Record | bintulu\n",
      "Processing Record | bonga\n",
      "Processing Record | dubuque\n",
      "Processing Record | morant bay\n",
      "Processing Record | makasar\n",
      "Processing Record | tessalit\n",
      "Processing Record | winnemucca\n",
      "Processing Record | shelburne\n",
      "Processing Record | nabire\n",
      "Processing Record | sepolno krajenskie\n",
      "Processing Record | taoudenni\n",
      "City not found\n",
      "Processing Record | hamilton\n",
      "Processing Record | wanning\n",
      "Processing Record | fjerritslev\n",
      "Processing Record | hue\n",
      "Processing Record | bilma\n",
      "Processing Record | leningradskiy\n",
      "Processing Record | fayaoue\n",
      "Processing Record | meulaboh\n",
      "Processing Record | asau\n",
      "Processing Record | grong\n",
      "Processing Record | mosty u jablunkova\n",
      "Processing Record | bandar\n",
      "Processing Record | sioux lookout\n",
      "City not found\n",
      "Processing Record | mangrol\n",
      "Processing Record | torbay\n",
      "Processing Record | kampot\n",
      "Processing Record | berdigestyakh\n",
      "Processing Record | yangjiang\n",
      "Processing Record | komsomolskiy\n",
      "Processing Record | weligama\n",
      "City not found\n",
      "Processing Record | la ronge\n",
      "Processing Record | swabi\n",
      "City not found\n",
      "Processing Record | okhotsk\n",
      "Processing Record | marsa matruh\n",
      "Processing Record | coquimbo\n",
      "City not found\n",
      "Processing Record | bara\n",
      "Processing Record | atasu\n",
      "Processing Record | auray\n",
      "Processing Record | pontes e lacerda\n",
      "Processing Record | havre-saint-pierre\n",
      "City not found\n",
      "Processing Record | port lincoln\n",
      "City not found\n",
      "Processing Record | kavieng\n",
      "Processing Record | noumea\n",
      "Processing Record | evensk\n",
      "City not found\n",
      "City not found\n",
      "Processing Record | sharjah\n",
      "Processing Record | senanga\n",
      "Processing Record | nikolskoye\n",
      "Processing Record | arkhara\n",
      "Processing Record | port-cartier\n",
      "Processing Record | khandyga\n",
      "Processing Record | ghotki\n"
     ]
    },
    {
     "name": "stdout",
     "output_type": "stream",
     "text": [
      "Processing Record | saskylakh\n",
      "Processing Record | beringovskiy\n",
      "Processing Record | okha\n",
      "City not found\n",
      "Processing Record | vilyuysk\n",
      "Processing Record | muros\n",
      "Processing Record | vilhena\n",
      "Processing Record | thiruvananthapuram\n",
      "Processing Record | tabou\n",
      "Processing Record | abu kamal\n",
      "Processing Record | luanda\n",
      "Processing Record | kamloops\n",
      "Processing Record | california city\n",
      "Processing Record | mayo\n",
      "Processing Record | west wendover\n",
      "Processing Record | vestmanna\n",
      "Processing Record | port hardy\n",
      "Processing Record | neiafu\n",
      "Processing Record | san cristobal\n",
      "Processing Record | dicabisagan\n",
      "Processing Record | blagoyevo\n",
      "Processing Record | ternate\n",
      "Processing Record | qaqortoq\n",
      "Processing Record | newport\n",
      "Processing Record | chicama\n",
      "Processing Record | kerman\n",
      "Processing Record | nago\n",
      "Processing Record | dingle\n",
      "Processing Record | saint anthony\n",
      "Processing Record | paranaiba\n",
      "Processing Record | wanaka\n",
      "Processing Record | nemuro\n",
      "Processing Record | port arthur\n",
      "Processing Record | marawi\n",
      "Processing Record | luorong\n",
      "Processing Record | alofi\n",
      "Processing Record | morar\n",
      "Processing Record | padang\n",
      "City not found\n",
      "Processing Record | tuatapere\n",
      "City not found\n",
      "Processing Record | broken hill\n",
      "Processing Record | shelopugino\n",
      "Processing Record | safaga\n",
      "Processing Record | caraquet\n",
      "Processing Record | san vicente\n",
      "Processing Record | nelson bay\n",
      "Processing Record | labuhan\n",
      "Processing Record | cap malheureux\n",
      "Processing Record | sete\n",
      "Processing Record | harper\n",
      "Processing Record | bambous virieux\n",
      "Processing Record | murray bridge\n",
      "Processing Record | batemans bay\n",
      "Processing Record | qasigiannguit\n",
      "Processing Record | kondinskoye\n",
      "City not found\n",
      "Processing Record | brigham city\n",
      "Processing Record | rawlins\n",
      "Processing Record | svetlogorsk\n",
      "Processing Record | shelton\n",
      "Processing Record | mbaiki\n",
      "Processing Record | brigantine\n",
      "Processing Record | kholm-zhirkovskiy\n",
      "Processing Record | bulungu\n",
      "Processing Record | springbok\n",
      "Processing Record | mount pleasant\n",
      "City not found\n",
      "Processing Record | san jose\n",
      "Processing Record | salalah\n",
      "Processing Record | camacha\n",
      "Processing Record | goderich\n",
      "Processing Record | korla\n",
      "Processing Record | odemira\n",
      "Processing Record | grand gaube\n",
      "Processing Record | onokhoy\n",
      "Processing Record | nyanguge\n",
      "Processing Record | pyaozerskiy\n",
      "Processing Record | rafraf\n",
      "Processing Record | kisangani\n",
      "Processing Record | manjacaze\n",
      "Processing Record | marieville\n",
      "Processing Record | pilar\n",
      "Processing Record | coro\n",
      "Processing Record | faanui\n",
      "Processing Record | zyryanka\n",
      "Processing Record | sitka\n",
      "Processing Record | puerto maldonado\n",
      "Processing Record | vestmannaeyjar\n",
      "Processing Record | los llanos de aridane\n",
      "Processing Record | weihe\n",
      "Processing Record | taltal\n",
      "Processing Record | merke\n",
      "Processing Record | bilibino\n",
      "Processing Record | wadi maliz\n",
      "Processing Record | oussouye\n",
      "Processing Record | lata\n",
      "Processing Record | sulangan\n",
      "Processing Record | sanary-sur-mer\n",
      "Processing Record | anori\n",
      "Processing Record | strezhevoy\n",
      "Processing Record | redmond\n",
      "Processing Record | playa vicente\n",
      "Processing Record | narsaq\n",
      "Processing Record | sucre\n",
      "Processing Record | smoky lake\n",
      "Processing Record | amos\n",
      "Processing Record | san giovanni rotondo\n",
      "Processing Record | fairbanks\n",
      "Processing Record | ribeira grande\n",
      "Processing Record | ritchie\n",
      "Processing Record | bonthe\n",
      "Processing Record | petropavlovsk-kamchatskiy\n",
      "Processing Record | iqaluit\n",
      "City not found\n",
      "Processing Record | edd\n",
      "Processing Record | mana\n",
      "Processing Record | nysa\n",
      "Processing Record | fare\n",
      "City not found\n",
      "Processing Record | lokosovo\n",
      "Processing Record | vila franca do campo\n",
      "Processing Record | akdepe\n",
      "Processing Record | marsh harbour\n",
      "Processing Record | andenes\n",
      "Processing Record | santa maria\n",
      "Processing Record | acapulco\n",
      "Processing Record | ostrovnoy\n",
      "Processing Record | inuvik\n",
      "Processing Record | pontiac\n",
      "Processing Record | progreso\n",
      "Processing Record | benghazi\n",
      "Processing Record | payson\n",
      "Processing Record | lamar\n",
      "Processing Record | tezu\n",
      "Processing Record | farafangana\n",
      "Processing Record | manzhouli\n",
      "Processing Record | baruun-urt\n",
      "Processing Record | lasa\n",
      "Processing Record | ponta delgada\n",
      "Processing Record | mangan\n",
      "Processing Record | yining\n",
      "Processing Record | waipawa\n",
      "Processing Record | rovenki\n",
      "Processing Record | kuloy\n",
      "Processing Record | necochea\n",
      "Processing Record | yulara\n",
      "Processing Record | aklavik\n",
      "Processing Record | klaksvik\n",
      "Processing Record | van buren\n",
      "Processing Record | kochubey\n",
      "Processing Record | navalmoral de la mata\n",
      "Processing Record | kuhdasht\n",
      "Processing Record | nome\n",
      "Processing Record | viedma\n",
      "Processing Record | cartagena\n",
      "Processing Record | destin\n",
      "Processing Record | namibe\n",
      "Processing Record | pokrovsk\n",
      "Processing Record | kontagora\n",
      "City not found\n",
      "Processing Record | sibolga\n",
      "Processing Record | todos santos\n",
      "Processing Record | roma\n",
      "Processing Record | morales\n",
      "Processing Record | takhtamygda\n",
      "Processing Record | crestview\n",
      "City not found\n",
      "Processing Record | ust-tsilma\n",
      "Processing Record | portland\n",
      "City not found\n",
      "Processing Record | maceio\n",
      "Processing Record | gornopravdinsk\n",
      "Processing Record | yei\n",
      "Processing Record | sinnamary\n",
      "Processing Record | opuwo\n",
      "Processing Record | te anau\n",
      "Processing Record | bantou\n",
      "Processing Record | mokolo\n",
      "Processing Record | dragoman\n",
      "Processing Record | coahuayana\n",
      "Processing Record | lumby\n",
      "Processing Record | hithadhoo\n",
      "Processing Record | nuuk\n",
      "Processing Record | oranjestad\n",
      "Processing Record | yuanping\n",
      "Processing Record | kahului\n",
      "Processing Record | linares\n",
      "Processing Record | princeton\n",
      "Processing Record | cuicatlan\n",
      "Processing Record | novoraychikhinsk\n",
      "Processing Record | aksu\n",
      "Processing Record | upernavik\n",
      "Processing Record | kalianget\n",
      "Processing Record | kendallville\n",
      "Processing Record | pulandian\n",
      "Processing Record | kincardine\n",
      "Processing Record | warrnambool\n",
      "Processing Record | falam\n",
      "Processing Record | ayaviri\n",
      "Processing Record | brae\n",
      "Processing Record | zdvinsk\n",
      "Processing Record | sao joao da barra\n",
      "Processing Record | murgab\n",
      "Processing Record | half moon bay\n",
      "Processing Record | kruisfontein\n",
      "Processing Record | nandu\n",
      "Processing Record | avera\n",
      "Processing Record | kashi\n",
      "Processing Record | bethanien\n",
      "Processing Record | mount gambier\n",
      "Processing Record | saint-francois\n",
      "Processing Record | mawlaik\n",
      "Processing Record | nyimba\n",
      "City not found\n",
      "Processing Record | ixtapa\n",
      "Processing Record | marzuq\n",
      "Processing Record | diamantino\n",
      "Processing Record | dukat\n",
      "Processing Record | nanyang\n",
      "Processing Record | abbeville\n",
      "City not found\n",
      "Processing Record | elizabeth city\n",
      "Processing Record | general roca\n",
      "Processing Record | watertown\n",
      "City not found\n",
      "Processing Record | yeniseysk\n",
      "Processing Record | rio gallegos\n",
      "Processing Record | tabat\n",
      "Processing Record | yenagoa\n",
      "Processing Record | oistins\n",
      "Processing Record | manakara\n",
      "Processing Record | bonavista\n",
      "Processing Record | westport\n",
      "City not found\n",
      "Processing Record | zhangye\n",
      "Processing Record | ipixuna\n",
      "Processing Record | martapura\n",
      "Processing Record | clinton\n",
      "Processing Record | glenwood springs\n",
      "City not found\n",
      "Processing Record | strangnas\n",
      "Processing Record | luganville\n",
      "City not found\n",
      "Processing Record | yar-sale\n",
      "Processing Record | warmbad\n",
      "Processing Record | rawah\n",
      "Processing Record | nambale\n",
      "Processing Record | kushima\n",
      "Processing Record | alta floresta\n",
      "Processing Record | inhambane\n",
      "Processing Record | santa fe\n",
      "Processing Record | wewak\n",
      "Processing Record | xining\n",
      "Processing Record | klyuchi\n",
      "Processing Record | lalupon\n",
      "Processing Record | samara\n",
      "Processing Record | teknaf\n",
      "Processing Record | upata\n",
      "Processing Record | jinka\n",
      "Processing Record | chenghai\n",
      "Processing Record | honiara\n",
      "Processing Record | charagua\n",
      "Processing Record | zelenoborsk\n",
      "Processing Record | ugoofaaru\n",
      "Processing Record | almenara\n",
      "Processing Record | morgan city\n",
      "Processing Record | woodinville\n",
      "Processing Record | changchun\n",
      "Processing Record | kapoeta\n",
      "Processing Record | baykit\n",
      "Processing Record | nouakchott\n",
      "Processing Record | solnechnyy\n",
      "Processing Record | shimoda\n",
      "Processing Record | pandan\n",
      "Processing Record | atar\n",
      "Processing Record | khudumelapye\n",
      "Processing Record | kerrobert\n",
      "Processing Record | chillicothe\n",
      "Processing Record | pacific grove\n",
      "Processing Record | ceres\n",
      "Processing Record | borogontsy\n",
      "Processing Record | barkly west\n",
      "Processing Record | amapa\n",
      "Processing Record | balkhash\n",
      "Processing Record | morondava\n",
      "Processing Record | aire-sur-la-lys\n"
     ]
    },
    {
     "name": "stdout",
     "output_type": "stream",
     "text": [
      "Processing Record | egvekinot\n",
      "Processing Record | jieshi\n",
      "Processing Record | maniitsoq\n",
      "Processing Record | sao miguel do araguaia\n",
      "Processing Record | buchanan\n",
      "Processing Record | eureka\n",
      "Processing Record | zirandaro\n",
      "Processing Record | araxa\n",
      "Processing Record | ola\n",
      "Processing Record | vila\n",
      "Processing Record | guerrero negro\n",
      "Processing Record | port keats\n",
      "Processing Record | raudeberg\n",
      "Processing Record | naryan-mar\n",
      "Processing Record | tadine\n",
      "Processing Record | samana\n",
      "Processing Record | svecha\n",
      "Processing Record | skibotn\n",
      "Processing Record | burnie\n",
      "Processing Record | kedougou\n",
      "Processing Record | isangel\n",
      "Processing Record | rocha\n",
      "Processing Record | gat\n",
      "Processing Record | ushtobe\n",
      "Processing Record | noshiro\n",
      "Processing Record | pathein\n",
      "Processing Record | buldana\n",
      "Processing Record | siva\n",
      "Processing Record | pindi gheb\n",
      "Processing Record | mehamn\n",
      "Processing Record | tkibuli\n",
      "Processing Record | virginia beach\n"
     ]
    }
   ],
   "source": [
    "url = \"http://api.openweathermap.org/data/2.5/weather?\"\n",
    "record = 0 \n",
    "full_data = []\n",
    "print(\"Beginning Data Retrieval\\n\"\n",
    "\"------------------------------\")\n",
    "\n",
    "for city in cities:\n",
    "    query_url = f'{url}appid={weather_api_key}&q={city}&units=imperial'\n",
    "    response = requests.get(query_url)\n",
    "    data = response.json()\n",
    "    if data[\"cod\"] == \"404\":\n",
    "        print(\"City not found\")\n",
    "    else:\n",
    "        full_data.append(data)\n",
    "        print(f'Processing Record | {city}')"
   ]
  },
  {
   "cell_type": "markdown",
   "metadata": {},
   "source": [
    "### Convert Raw Data to DataFrame\n",
    "* Export the city data into a .csv.\n",
    "* Display the DataFrame"
   ]
  },
  {
   "cell_type": "code",
   "execution_count": 101,
   "metadata": {},
   "outputs": [
    {
     "data": {
      "text/html": [
       "<div>\n",
       "<style scoped>\n",
       "    .dataframe tbody tr th:only-of-type {\n",
       "        vertical-align: middle;\n",
       "    }\n",
       "\n",
       "    .dataframe tbody tr th {\n",
       "        vertical-align: top;\n",
       "    }\n",
       "\n",
       "    .dataframe thead th {\n",
       "        text-align: right;\n",
       "    }\n",
       "</style>\n",
       "<table border=\"1\" class=\"dataframe\">\n",
       "  <thead>\n",
       "    <tr style=\"text-align: right;\">\n",
       "      <th></th>\n",
       "      <th>City</th>\n",
       "      <th>Lng</th>\n",
       "      <th>Lat</th>\n",
       "      <th>Max Temp</th>\n",
       "      <th>Humidity</th>\n",
       "      <th>Cloudiness</th>\n",
       "      <th>Wind Speed</th>\n",
       "      <th>Country</th>\n",
       "      <th>Date</th>\n",
       "    </tr>\n",
       "  </thead>\n",
       "  <tbody>\n",
       "    <tr>\n",
       "      <th>0</th>\n",
       "      <td>Saldanha</td>\n",
       "      <td>17.9442</td>\n",
       "      <td>-33.0117</td>\n",
       "      <td>68.00</td>\n",
       "      <td>77</td>\n",
       "      <td>100</td>\n",
       "      <td>13.80</td>\n",
       "      <td>ZA</td>\n",
       "      <td>1611430737</td>\n",
       "    </tr>\n",
       "    <tr>\n",
       "      <th>1</th>\n",
       "      <td>Dunedin</td>\n",
       "      <td>170.5036</td>\n",
       "      <td>-45.8742</td>\n",
       "      <td>59.00</td>\n",
       "      <td>67</td>\n",
       "      <td>98</td>\n",
       "      <td>5.01</td>\n",
       "      <td>NZ</td>\n",
       "      <td>1611430737</td>\n",
       "    </tr>\n",
       "    <tr>\n",
       "      <th>2</th>\n",
       "      <td>Uuemõisa</td>\n",
       "      <td>23.5894</td>\n",
       "      <td>58.9394</td>\n",
       "      <td>35.01</td>\n",
       "      <td>90</td>\n",
       "      <td>100</td>\n",
       "      <td>5.01</td>\n",
       "      <td>EE</td>\n",
       "      <td>1611430737</td>\n",
       "    </tr>\n",
       "    <tr>\n",
       "      <th>3</th>\n",
       "      <td>Alugan</td>\n",
       "      <td>125.4808</td>\n",
       "      <td>12.2188</td>\n",
       "      <td>78.53</td>\n",
       "      <td>84</td>\n",
       "      <td>56</td>\n",
       "      <td>4.65</td>\n",
       "      <td>PH</td>\n",
       "      <td>1611430737</td>\n",
       "    </tr>\n",
       "    <tr>\n",
       "      <th>4</th>\n",
       "      <td>Busselton</td>\n",
       "      <td>115.3333</td>\n",
       "      <td>-33.6500</td>\n",
       "      <td>61.00</td>\n",
       "      <td>88</td>\n",
       "      <td>85</td>\n",
       "      <td>1.97</td>\n",
       "      <td>AU</td>\n",
       "      <td>1611430737</td>\n",
       "    </tr>\n",
       "    <tr>\n",
       "      <th>...</th>\n",
       "      <td>...</td>\n",
       "      <td>...</td>\n",
       "      <td>...</td>\n",
       "      <td>...</td>\n",
       "      <td>...</td>\n",
       "      <td>...</td>\n",
       "      <td>...</td>\n",
       "      <td>...</td>\n",
       "      <td>...</td>\n",
       "    </tr>\n",
       "    <tr>\n",
       "      <th>561</th>\n",
       "      <td>Sīwah</td>\n",
       "      <td>25.5195</td>\n",
       "      <td>29.2041</td>\n",
       "      <td>48.36</td>\n",
       "      <td>62</td>\n",
       "      <td>0</td>\n",
       "      <td>4.05</td>\n",
       "      <td>EG</td>\n",
       "      <td>1611430815</td>\n",
       "    </tr>\n",
       "    <tr>\n",
       "      <th>562</th>\n",
       "      <td>Pindi Gheb</td>\n",
       "      <td>72.2661</td>\n",
       "      <td>33.2402</td>\n",
       "      <td>50.29</td>\n",
       "      <td>33</td>\n",
       "      <td>0</td>\n",
       "      <td>8.70</td>\n",
       "      <td>PK</td>\n",
       "      <td>1611430815</td>\n",
       "    </tr>\n",
       "    <tr>\n",
       "      <th>563</th>\n",
       "      <td>Mehamn</td>\n",
       "      <td>27.8492</td>\n",
       "      <td>71.0357</td>\n",
       "      <td>21.38</td>\n",
       "      <td>94</td>\n",
       "      <td>100</td>\n",
       "      <td>27.56</td>\n",
       "      <td>NO</td>\n",
       "      <td>1611430815</td>\n",
       "    </tr>\n",
       "    <tr>\n",
       "      <th>564</th>\n",
       "      <td>Tkibuli</td>\n",
       "      <td>42.9981</td>\n",
       "      <td>42.3477</td>\n",
       "      <td>35.60</td>\n",
       "      <td>51</td>\n",
       "      <td>0</td>\n",
       "      <td>9.22</td>\n",
       "      <td>GE</td>\n",
       "      <td>1611430815</td>\n",
       "    </tr>\n",
       "    <tr>\n",
       "      <th>565</th>\n",
       "      <td>Virginia Beach</td>\n",
       "      <td>-75.9780</td>\n",
       "      <td>36.8529</td>\n",
       "      <td>42.01</td>\n",
       "      <td>46</td>\n",
       "      <td>0</td>\n",
       "      <td>8.01</td>\n",
       "      <td>US</td>\n",
       "      <td>1611430193</td>\n",
       "    </tr>\n",
       "  </tbody>\n",
       "</table>\n",
       "<p>566 rows × 9 columns</p>\n",
       "</div>"
      ],
      "text/plain": [
       "               City       Lng      Lat  Max Temp  Humidity  Cloudiness  \\\n",
       "0          Saldanha   17.9442 -33.0117     68.00        77         100   \n",
       "1           Dunedin  170.5036 -45.8742     59.00        67          98   \n",
       "2          Uuemõisa   23.5894  58.9394     35.01        90         100   \n",
       "3            Alugan  125.4808  12.2188     78.53        84          56   \n",
       "4         Busselton  115.3333 -33.6500     61.00        88          85   \n",
       "..              ...       ...      ...       ...       ...         ...   \n",
       "561           Sīwah   25.5195  29.2041     48.36        62           0   \n",
       "562      Pindi Gheb   72.2661  33.2402     50.29        33           0   \n",
       "563          Mehamn   27.8492  71.0357     21.38        94         100   \n",
       "564         Tkibuli   42.9981  42.3477     35.60        51           0   \n",
       "565  Virginia Beach  -75.9780  36.8529     42.01        46           0   \n",
       "\n",
       "     Wind Speed Country        Date  \n",
       "0         13.80      ZA  1611430737  \n",
       "1          5.01      NZ  1611430737  \n",
       "2          5.01      EE  1611430737  \n",
       "3          4.65      PH  1611430737  \n",
       "4          1.97      AU  1611430737  \n",
       "..          ...     ...         ...  \n",
       "561        4.05      EG  1611430815  \n",
       "562        8.70      PK  1611430815  \n",
       "563       27.56      NO  1611430815  \n",
       "564        9.22      GE  1611430815  \n",
       "565        8.01      US  1611430193  \n",
       "\n",
       "[566 rows x 9 columns]"
      ]
     },
     "execution_count": 101,
     "metadata": {},
     "output_type": "execute_result"
    }
   ],
   "source": [
    "city_data_full = pd.json_normalize(full_data)\n",
    "city_data=city_data_full[[\"name\",\"coord.lon\", \"coord.lat\",\"main.temp_max\",\"main.humidity\",\"clouds.all\",\"wind.speed\",\"sys.country\",\"dt\"]]\n",
    "city_data.columns = [\"City\",\"Lng\",\"Lat\",\"Max Temp\",\"Humidity\",\"Cloudiness\",\"Wind Speed\",\"Country\",\"Date\"]\n",
    "city_data.to_csv(output_data_file)\n",
    "city_data"
   ]
  },
  {
   "cell_type": "code",
   "execution_count": 102,
   "metadata": {},
   "outputs": [
    {
     "data": {
      "text/plain": [
       "102.2"
      ]
     },
     "execution_count": 102,
     "metadata": {},
     "output_type": "execute_result"
    }
   ],
   "source": [
    "city_data[\"Max Temp\"].max()"
   ]
  },
  {
   "cell_type": "markdown",
   "metadata": {},
   "source": [
    "## Inspect the data and remove the cities where the humidity > 100%.\n",
    "----\n",
    "Skip this step if there are no cities that have humidity > 100%. "
   ]
  },
  {
   "cell_type": "code",
   "execution_count": 103,
   "metadata": {
    "scrolled": false
   },
   "outputs": [
    {
     "data": {
      "text/plain": [
       "100"
      ]
     },
     "execution_count": 103,
     "metadata": {},
     "output_type": "execute_result"
    }
   ],
   "source": [
    "city_data[\"Humidity\"].max()"
   ]
  },
  {
   "cell_type": "code",
   "execution_count": 104,
   "metadata": {},
   "outputs": [
    {
     "name": "stdout",
     "output_type": "stream",
     "text": [
      "There are no cities with humidity > 100%. Skipping this step.\n"
     ]
    }
   ],
   "source": [
    "print(\"There are no cities with humidity > 100%. Skipping this step.\")"
   ]
  },
  {
   "cell_type": "markdown",
   "metadata": {},
   "source": [
    "## Plotting the Data\n",
    "* Use proper labeling of the plots using plot titles (including date of analysis) and axes labels.\n",
    "* Save the plotted figures as .pngs."
   ]
  },
  {
   "cell_type": "markdown",
   "metadata": {},
   "source": [
    "## Latitude vs. Temperature Plot"
   ]
  },
  {
   "cell_type": "code",
   "execution_count": 105,
   "metadata": {
    "scrolled": true
   },
   "outputs": [
    {
     "data": {
      "text/plain": [
       "[]"
      ]
     },
     "execution_count": 105,
     "metadata": {},
     "output_type": "execute_result"
    },
    {
     "data": {
      "image/png": "[encoded data removed]",
      "text/plain": [
       "<Figure size 432x288 with 1 Axes>"
      ]
     },
     "metadata": {
      "needs_background": "light"
     },
     "output_type": "display_data"
    }
   ],
   "source": [
    "plt.scatter(city_data[\"Lat\"], city_data[\"Max Temp\"], edgecolors=\"black\")\n",
    "plt.xlabel(\"Latitude\")\n",
    "plt.ylabel(\"Max Temperature (F)\")\n",
    "plt.title(\"City Latitude vs Max Temperature 01/23/21\")\n",
    "plt.grid()\n",
    "plt.savefig(\"output_data/Fig1.png\")\n",
    "plt.plot()"
   ]
  },
  {
   "cell_type": "code",
   "execution_count": 106,
   "metadata": {},
   "outputs": [
    {
     "name": "stdout",
     "output_type": "stream",
     "text": [
      "This graph is comparing Latitude with Temperature (F)\n"
     ]
    }
   ],
   "source": [
    "print(\"This graph is comparing Latitude with Temperature (F)\")"
   ]
  },
  {
   "cell_type": "markdown",
   "metadata": {},
   "source": [
    "## Latitude vs. Humidity Plot"
   ]
  },
  {
   "cell_type": "code",
   "execution_count": 108,
   "metadata": {},
   "outputs": [
    {
     "data": {
      "text/plain": [
       "[]"
      ]
     },
     "execution_count": 108,
     "metadata": {},
     "output_type": "execute_result"
    },
    {
     "data": {
      "image/png": "[encoded data removed]",
      "text/plain": [
       "<Figure size 432x288 with 1 Axes>"
      ]
     },
     "metadata": {
      "needs_background": "light"
     },
     "output_type": "display_data"
    }
   ],
   "source": [
    "plt.scatter(city_data[\"Lat\"], city_data[\"Humidity\"], edgecolors=\"black\")\n",
    "plt.xlabel(\"Latitude\")\n",
    "plt.ylabel(\"Humidity (%)\")\n",
    "plt.title(\"City Latitude vs Humidity 01/23/21\")\n",
    "plt.grid()\n",
    "plt.savefig(\"output_data/Fig2.png\")\n",
    "plt.plot()"
   ]
  },
  {
   "cell_type": "code",
   "execution_count": 109,
   "metadata": {},
   "outputs": [
    {
     "name": "stdout",
     "output_type": "stream",
     "text": [
      "This graph is comparing Latitude with Humidity\n"
     ]
    }
   ],
   "source": [
    "print(\"This graph is comparing Latitude with Humidity\")"
   ]
  },
  {
   "cell_type": "markdown",
   "metadata": {},
   "source": [
    "## Latitude vs. Cloudiness Plot"
   ]
  },
  {
   "cell_type": "code",
   "execution_count": 110,
   "metadata": {},
   "outputs": [
    {
     "data": {
      "text/plain": [
       "[]"
      ]
     },
     "execution_count": 110,
     "metadata": {},
     "output_type": "execute_result"
    },
    {
     "data": {
      "image/png": "[encoded data removed]",
      "text/plain": [
       "<Figure size 432x288 with 1 Axes>"
      ]
     },
     "metadata": {
      "needs_background": "light"
     },
     "output_type": "display_data"
    }
   ],
   "source": [
    "plt.scatter(city_data[\"Lat\"], city_data[\"Cloudiness\"], edgecolors=\"black\")\n",
    "plt.xlabel(\"Latitude\")\n",
    "plt.ylabel(\"Cloudiness (%)\")\n",
    "plt.title(\"City Latitude vs Cloudiness 01/23/21\")\n",
    "plt.grid()\n",
    "plt.savefig(\"output_data/Fig3.png\")\n",
    "plt.plot()"
   ]
  },
  {
   "cell_type": "code",
   "execution_count": 111,
   "metadata": {},
   "outputs": [
    {
     "name": "stdout",
     "output_type": "stream",
     "text": [
      "This graph is comparing Latitude with Cloudiness\n"
     ]
    }
   ],
   "source": [
    "print(\"This graph is comparing Latitude with Cloudiness\")"
   ]
  },
  {
   "cell_type": "markdown",
   "metadata": {},
   "source": [
    "## Latitude vs. Wind Speed Plot"
   ]
  },
  {
   "cell_type": "code",
   "execution_count": 112,
   "metadata": {
    "scrolled": true
   },
   "outputs": [
    {
     "data": {
      "text/plain": [
       "[]"
      ]
     },
     "execution_count": 112,
     "metadata": {},
     "output_type": "execute_result"
    },
    {
     "data": {
      "image/png": "[encoded data removed]",
      "text/plain": [
       "<Figure size 432x288 with 1 Axes>"
      ]
     },
     "metadata": {
      "needs_background": "light"
     },
     "output_type": "display_data"
    }
   ],
   "source": [
    "plt.scatter(city_data[\"Lat\"], city_data[\"Wind Speed\"], edgecolors=\"black\")\n",
    "plt.xlabel(\"Latitude\")\n",
    "plt.ylabel(\"Wind Speed (mph)\")\n",
    "plt.title(\"City Latitude vs Wind Speed 01/23/21\")\n",
    "plt.grid()\n",
    "plt.savefig(\"output_data/Fig4.png\")\n",
    "plt.plot()"
   ]
  },
  {
   "cell_type": "code",
   "execution_count": 113,
   "metadata": {},
   "outputs": [
    {
     "name": "stdout",
     "output_type": "stream",
     "text": [
      "This graph is comparing Latitude with Wind Speed\n"
     ]
    }
   ],
   "source": [
    "print(\"This graph is comparing Latitude with Wind Speed\")"
   ]
  },
  {
   "cell_type": "markdown",
   "metadata": {},
   "source": [
    "## Linear Regression"
   ]
  },
  {
   "cell_type": "code",
   "execution_count": 114,
   "metadata": {},
   "outputs": [],
   "source": [
    "# Splitting the data into northern hemisphere data and southern hemisphere data\n",
    "northern_data = city_data.loc[city_data[\"Lat\"] >= 0,:]\n",
    "southern_data = city_data.loc[city_data[\"Lat\"] < 0,:]"
   ]
  },
  {
   "cell_type": "markdown",
   "metadata": {},
   "source": [
    "####  Northern Hemisphere - Max Temp vs. Latitude Linear Regression"
   ]
  },
  {
   "cell_type": "code",
   "execution_count": 115,
   "metadata": {
    "scrolled": true
   },
   "outputs": [
    {
     "name": "stdout",
     "output_type": "stream",
     "text": [
      "The r-value is: -0.8466245049160294\n"
     ]
    },
    {
     "data": {
      "image/png": "[encoded data removed]",
      "text/plain": [
       "<Figure size 432x288 with 1 Axes>"
      ]
     },
     "metadata": {
      "needs_background": "light"
     },
     "output_type": "display_data"
    }
   ],
   "source": [
    "x_values = northern_data[\"Lat\"]\n",
    "y_values = northern_data[\"Max Temp\"]\n",
    "(slope, intercept, rvalue, pvalue, stderr) = linregress(x_values, y_values)\n",
    "regress_values = x_values * slope + intercept\n",
    "line_eq = \"y = \" + str(round(slope,2)) + \"x + \" + str(round(intercept,2))\n",
    "plt.scatter(x_values,y_values)\n",
    "plt.plot(x_values,regress_values,\"r-\")\n",
    "plt.annotate(line_eq,(0,0),fontsize=15,color=\"red\")\n",
    "plt.xlabel(\"Latitude\")\n",
    "plt.ylabel(\"Temperature (F)\")\n",
    "print(f'The r-value is: {rvalue}')\n"
   ]
  },
  {
   "cell_type": "code",
   "execution_count": 116,
   "metadata": {},
   "outputs": [
    {
     "name": "stdout",
     "output_type": "stream",
     "text": [
      "This graph above is comparing Latitude of cities in the Northern Hemisphere to Temperature. We can see that there is a negative relationship between latitude and temperature, and the correlation is strong.\n"
     ]
    }
   ],
   "source": [
    "print(\"This graph above is comparing Latitude of cities in the Northern Hemisphere to Temperature. We can see that there is a negative relationship between latitude and temperature, and the correlation is strong.\")"
   ]
  },
  {
   "cell_type": "markdown",
   "metadata": {},
   "source": [
    "####  Southern Hemisphere - Max Temp vs. Latitude Linear Regression"
   ]
  },
  {
   "cell_type": "code",
   "execution_count": 117,
   "metadata": {
    "scrolled": true
   },
   "outputs": [
    {
     "name": "stdout",
     "output_type": "stream",
     "text": [
      "The r-value is: 0.4852625851416674\n"
     ]
    },
    {
     "data": {
      "image/png": "[encoded data removed]",
      "text/plain": [
       "<Figure size 432x288 with 1 Axes>"
      ]
     },
     "metadata": {
      "needs_background": "light"
     },
     "output_type": "display_data"
    }
   ],
   "source": [
    "x_values = southern_data[\"Lat\"]\n",
    "y_values = southern_data[\"Max Temp\"]\n",
    "(slope, intercept, rvalue, pvalue, stderr) = linregress(x_values, y_values)\n",
    "regress_values = x_values * slope + intercept\n",
    "line_eq = \"y = \" + str(round(slope,2)) + \"x + \" + str(round(intercept,2))\n",
    "plt.scatter(x_values,y_values)\n",
    "plt.plot(x_values,regress_values,\"r-\")\n",
    "plt.annotate(line_eq,(-25,55),fontsize=15,color=\"red\")\n",
    "plt.xlabel(\"Latitude\")\n",
    "plt.ylabel(\"Temperature (F)\")\n",
    "print(f'The r-value is: {rvalue}')"
   ]
  },
  {
   "cell_type": "code",
   "execution_count": 118,
   "metadata": {},
   "outputs": [
    {
     "name": "stdout",
     "output_type": "stream",
     "text": [
      "This graph above is comparing Latitude of cities in the Southern Hemisphere to Temperature. We can see that there is a slight positive relationship between latitude and temperature, but the correlation is not very strong.\n"
     ]
    }
   ],
   "source": [
    "print(\"This graph above is comparing Latitude of cities in the Southern Hemisphere to Temperature. We can see that there is a slight positive relationship between latitude and temperature, but the correlation is not very strong.\")"
   ]
  },
  {
   "cell_type": "markdown",
   "metadata": {},
   "source": [
    "####  Northern Hemisphere - Humidity (%) vs. Latitude Linear Regression"
   ]
  },
  {
   "cell_type": "code",
   "execution_count": 119,
   "metadata": {},
   "outputs": [
    {
     "name": "stdout",
     "output_type": "stream",
     "text": [
      "The r-value is: 0.3345198310512902\n"
     ]
    },
    {
     "data": {
      "image/png": "[encoded data removed]",
      "text/plain": [
       "<Figure size 432x288 with 1 Axes>"
      ]
     },
     "metadata": {
      "needs_background": "light"
     },
     "output_type": "display_data"
    }
   ],
   "source": [
    "x_values = northern_data[\"Lat\"]\n",
    "y_values = northern_data[\"Humidity\"]\n",
    "(slope, intercept, rvalue, pvalue, stderr) = linregress(x_values, y_values)\n",
    "regress_values = x_values * slope + intercept\n",
    "line_eq = \"y = \" + str(round(slope,2)) + \"x + \" + str(round(intercept,2))\n",
    "plt.scatter(x_values,y_values)\n",
    "plt.plot(x_values,regress_values,\"r-\")\n",
    "plt.annotate(line_eq,(50,20),fontsize=15,color=\"red\")\n",
    "plt.xlabel(\"Latitude\")\n",
    "plt.ylabel(\"Humidity\")\n",
    "print(f'The r-value is: {rvalue}')"
   ]
  },
  {
   "cell_type": "code",
   "execution_count": 120,
   "metadata": {},
   "outputs": [
    {
     "name": "stdout",
     "output_type": "stream",
     "text": [
      "This graph above is comparing Latitude of cities in the Northern Hemisphere to Humidity. We can see that there is a very slight positive relationship between latitude and temperature, but the correlation is not strong.\n"
     ]
    }
   ],
   "source": [
    "print(\"This graph above is comparing Latitude of cities in the Northern Hemisphere to Humidity. We can see that there is a very slight positive relationship between latitude and temperature, but the correlation is not strong.\")"
   ]
  },
  {
   "cell_type": "markdown",
   "metadata": {},
   "source": [
    "####  Southern Hemisphere - Humidity (%) vs. Latitude Linear Regression"
   ]
  },
  {
   "cell_type": "code",
   "execution_count": 121,
   "metadata": {},
   "outputs": [
    {
     "name": "stdout",
     "output_type": "stream",
     "text": [
      "The r-value is: 0.27002480217481495\n"
     ]
    },
    {
     "data": {
      "image/png": "[encoded data removed]",
      "text/plain": [
       "<Figure size 432x288 with 1 Axes>"
      ]
     },
     "metadata": {
      "needs_background": "light"
     },
     "output_type": "display_data"
    }
   ],
   "source": [
    "x_values = southern_data[\"Lat\"]\n",
    "y_values = southern_data[\"Humidity\"]\n",
    "(slope, intercept, rvalue, pvalue, stderr) = linregress(x_values, y_values)\n",
    "regress_values = x_values * slope + intercept\n",
    "line_eq = \"y = \" + str(round(slope,2)) + \"x + \" + str(round(intercept,2))\n",
    "plt.scatter(x_values,y_values)\n",
    "plt.plot(x_values,regress_values,\"r-\")\n",
    "plt.annotate(line_eq,(-20,20),fontsize=15,color=\"red\")\n",
    "plt.xlabel(\"Latitude\")\n",
    "plt.ylabel(\"Humidity\")\n",
    "print(f'The r-value is: {rvalue}')"
   ]
  },
  {
   "cell_type": "code",
   "execution_count": 122,
   "metadata": {},
   "outputs": [
    {
     "name": "stdout",
     "output_type": "stream",
     "text": [
      "This graph above is comparing Latitude of cities in the Southern Hemisphere to Humidity. We can see that there is a very weak positive relationship between latitude and humidity.\n"
     ]
    }
   ],
   "source": [
    "print(\"This graph above is comparing Latitude of cities in the Southern Hemisphere to Humidity. We can see that there is a very weak positive relationship between latitude and humidity.\")"
   ]
  },
  {
   "cell_type": "markdown",
   "metadata": {},
   "source": [
    "####  Northern Hemisphere - Cloudiness (%) vs. Latitude Linear Regression"
   ]
  },
  {
   "cell_type": "code",
   "execution_count": 123,
   "metadata": {},
   "outputs": [
    {
     "name": "stdout",
     "output_type": "stream",
     "text": [
      "The r-value is: 0.12355908432426635\n"
     ]
    },
    {
     "data": {
      "image/png": "[encoded data removed]",
      "text/plain": [
       "<Figure size 432x288 with 1 Axes>"
      ]
     },
     "metadata": {
      "needs_background": "light"
     },
     "output_type": "display_data"
    }
   ],
   "source": [
    "x_values = northern_data[\"Lat\"]\n",
    "y_values = northern_data[\"Cloudiness\"]\n",
    "(slope, intercept, rvalue, pvalue, stderr) = linregress(x_values, y_values)\n",
    "regress_values = x_values * slope + intercept\n",
    "line_eq = \"y = \" + str(round(slope,2)) + \"x + \" + str(round(intercept,2))\n",
    "plt.scatter(x_values,y_values)\n",
    "plt.plot(x_values,regress_values,\"r-\")\n",
    "plt.annotate(line_eq,(0,10),fontsize=15,color=\"red\")\n",
    "plt.xlabel(\"Latitude\")\n",
    "plt.ylabel(\"Cloudiness\")\n",
    "print(f'The r-value is: {rvalue}')"
   ]
  },
  {
   "cell_type": "code",
   "execution_count": 124,
   "metadata": {},
   "outputs": [
    {
     "name": "stdout",
     "output_type": "stream",
     "text": [
      "This graph above is comparing Latitude of cities in the Northern Hemisphere to Cloudiness. We can see that there is a very weak positive relationship between latitude and cloudiness.\n"
     ]
    }
   ],
   "source": [
    "print(\"This graph above is comparing Latitude of cities in the Northern Hemisphere to Cloudiness. We can see that there is a very weak positive relationship between latitude and cloudiness.\")"
   ]
  },
  {
   "cell_type": "markdown",
   "metadata": {},
   "source": [
    "####  Southern Hemisphere - Cloudiness (%) vs. Latitude Linear Regression"
   ]
  },
  {
   "cell_type": "code",
   "execution_count": 125,
   "metadata": {},
   "outputs": [
    {
     "name": "stdout",
     "output_type": "stream",
     "text": [
      "The r-value is: 0.17875704797996397\n"
     ]
    },
    {
     "data": {
      "image/png": "[encoded data removed]",
      "text/plain": [
       "<Figure size 432x288 with 1 Axes>"
      ]
     },
     "metadata": {
      "needs_background": "light"
     },
     "output_type": "display_data"
    }
   ],
   "source": [
    "x_values = southern_data[\"Lat\"]\n",
    "y_values = southern_data[\"Cloudiness\"]\n",
    "(slope, intercept, rvalue, pvalue, stderr) = linregress(x_values, y_values)\n",
    "regress_values = x_values * slope + intercept\n",
    "line_eq = \"y = \" + str(round(slope,2)) + \"x + \" + str(round(intercept,2))\n",
    "plt.scatter(x_values,y_values)\n",
    "plt.plot(x_values,regress_values,\"r-\")\n",
    "plt.annotate(line_eq,(-50,60),fontsize=15,color=\"red\")\n",
    "plt.xlabel(\"Latitude\")\n",
    "plt.ylabel(\"Cloudiness\")\n",
    "print(f'The r-value is: {rvalue}')"
   ]
  },
  {
   "cell_type": "code",
   "execution_count": 126,
   "metadata": {},
   "outputs": [
    {
     "name": "stdout",
     "output_type": "stream",
     "text": [
      "This graph above is comparing Latitude of cities in the Southern Hemisphere to Cloudiness. We can see that there is a weak positive relationship between latitude and cloudiness.\n"
     ]
    }
   ],
   "source": [
    "print(\"This graph above is comparing Latitude of cities in the Southern Hemisphere to Cloudiness. We can see that there is a weak positive relationship between latitude and cloudiness.\")"
   ]
  },
  {
   "cell_type": "markdown",
   "metadata": {},
   "source": [
    "####  Northern Hemisphere - Wind Speed (mph) vs. Latitude Linear Regression"
   ]
  },
  {
   "cell_type": "code",
   "execution_count": 127,
   "metadata": {
    "scrolled": true
   },
   "outputs": [
    {
     "name": "stdout",
     "output_type": "stream",
     "text": [
      "The r-value is: 0.08703112112640618\n"
     ]
    },
    {
     "data": {
      "image/png": "[encoded data removed]",
      "text/plain": [
       "<Figure size 432x288 with 1 Axes>"
      ]
     },
     "metadata": {
      "needs_background": "light"
     },
     "output_type": "display_data"
    }
   ],
   "source": [
    "x_values = northern_data[\"Lat\"]\n",
    "y_values = northern_data[\"Wind Speed\"]\n",
    "(slope, intercept, rvalue, pvalue, stderr) = linregress(x_values, y_values)\n",
    "regress_values = x_values * slope + intercept\n",
    "line_eq = \"y = \" + str(round(slope,2)) + \"x + \" + str(round(intercept,2))\n",
    "plt.scatter(x_values,y_values)\n",
    "plt.plot(x_values,regress_values,\"r-\")\n",
    "plt.annotate(line_eq,(0,30),fontsize=15,color=\"red\")\n",
    "plt.xlabel(\"Latitude\")\n",
    "plt.ylabel(\"Wind Speed\")\n",
    "print(f'The r-value is: {rvalue}')"
   ]
  },
  {
   "cell_type": "code",
   "execution_count": 128,
   "metadata": {},
   "outputs": [
    {
     "name": "stdout",
     "output_type": "stream",
     "text": [
      "This graph above is comparing Latitude of cities in the Northern Hemisphere to Wind Speed. We can see that there is essentially no relationship between latitude and wind speed.\n"
     ]
    }
   ],
   "source": [
    "print(\"This graph above is comparing Latitude of cities in the Northern Hemisphere to Wind Speed. We can see that there is essentially no relationship between latitude and wind speed.\")"
   ]
  },
  {
   "cell_type": "markdown",
   "metadata": {},
   "source": [
    "####  Southern Hemisphere - Wind Speed (mph) vs. Latitude Linear Regression"
   ]
  },
  {
   "cell_type": "code",
   "execution_count": 129,
   "metadata": {},
   "outputs": [
    {
     "name": "stdout",
     "output_type": "stream",
     "text": [
      "The r-value is: -0.22107485640815328\n"
     ]
    },
    {
     "data": {
      "image/png": "[encoded data removed]",
      "text/plain": [
       "<Figure size 432x288 with 1 Axes>"
      ]
     },
     "metadata": {
      "needs_background": "light"
     },
     "output_type": "display_data"
    }
   ],
   "source": [
    "x_values = southern_data[\"Lat\"]\n",
    "y_values = southern_data[\"Wind Speed\"]\n",
    "(slope, intercept, rvalue, pvalue, stderr) = linregress(x_values, y_values)\n",
    "regress_values = x_values * slope + intercept\n",
    "line_eq = \"y = \" + str(round(slope,2)) + \"x + \" + str(round(intercept,2))\n",
    "plt.scatter(x_values,y_values)\n",
    "plt.plot(x_values,regress_values,\"r-\")\n",
    "plt.annotate(line_eq,(-50,30),fontsize=15,color=\"red\")\n",
    "plt.xlabel(\"Latitude\")\n",
    "plt.ylabel(\"Wind Speed\")\n",
    "print(f'The r-value is: {rvalue}')"
   ]
  },
  {
   "cell_type": "code",
   "execution_count": 130,
   "metadata": {},
   "outputs": [
    {
     "name": "stdout",
     "output_type": "stream",
     "text": [
      "This graph above is comparing Latitude of cities in the Southern Hemisphere to Wind Speed. We can see that there is essentially no relationship between latitude and wind speed.\n"
     ]
    }
   ],
   "source": [
    "print(\"This graph above is comparing Latitude of cities in the Southern Hemisphere to Wind Speed. We can see that there is essentially no relationship between latitude and wind speed.\")"
   ]
  },
  {
   "cell_type": "code",
   "execution_count": null,
   "metadata": {},
   "outputs": [],
   "source": []
  }
 ],
 "metadata": {
  "anaconda-cloud": {},
  "kernel_info": {
   "name": "python3"
  },
  "kernelspec": {
   "display_name": "Python 3",
   "language": "python",
   "name": "python3"
  },
  "language_info": {
   "codemirror_mode": {
    "name": "ipython",
    "version": 3
   },
   "file_extension": ".py",
   "mimetype": "text/x-python",
   "name": "python",
   "nbconvert_exporter": "python",
   "pygments_lexer": "ipython3",
   "version": "3.8.5"
  },
  "latex_envs": {
   "LaTeX_envs_menu_present": true,
   "autoclose": false,
   "autocomplete": true,
   "bibliofile": "biblio.bib",
   "cite_by": "apalike",
   "current_citInitial": 1,
   "eqLabelWithNumbers": true,
   "eqNumInitial": 1,
   "hotkeys": {
    "equation": "Ctrl-E",
    "itemize": "Ctrl-I"
   },
   "labels_anchors": false,
   "latex_user_defs": false,
   "report_style_numbering": false,
   "user_envs_cfg": false
  },
  "nteract": {
   "version": "0.12.3"
  }
 },
 "nbformat": 4,
 "nbformat_minor": 2
}
